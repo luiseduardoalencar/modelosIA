{
  "nbformat": 4,
  "nbformat_minor": 0,
  "metadata": {
    "colab": {
      "provenance": [],
      "mount_file_id": "1JSfKx-yz1NRwY5FQIIVnG_W6bqwhP9X2",
      "authorship_tag": "ABX9TyMHFF4IKeXraqCcQHKtdwfE",
      "include_colab_link": true
    },
    "kernelspec": {
      "name": "python3",
      "display_name": "Python 3"
    },
    "language_info": {
      "name": "python"
    }
  },
  "cells": [
    {
      "cell_type": "markdown",
      "metadata": {
        "id": "view-in-github",
        "colab_type": "text"
      },
      "source": [
        "<a href=\"https://colab.research.google.com/github/luiseduardoalencar/modelosIA/blob/main/perceptron.ipynb\" target=\"_parent\"><img src=\"https://colab.research.google.com/assets/colab-badge.svg\" alt=\"Open In Colab\"/></a>"
      ]
    },
    {
      "cell_type": "markdown",
      "source": [
        "#Importação"
      ],
      "metadata": {
        "id": "ahWMeG4MZ5V3"
      }
    },
    {
      "cell_type": "code",
      "execution_count": 1,
      "metadata": {
        "id": "6NJtNl6GZGyh"
      },
      "outputs": [],
      "source": [
        "import numpy as np\n",
        "import matplotlib.pyplot as plt\n",
        "import seaborn as sns\n",
        "from sklearn.datasets import load_digits\n",
        "from sklearn.model_selection import train_test_split\n",
        "from sklearn.preprocessing import MinMaxScaler\n",
        "from sklearn.metrics import accuracy_score"
      ]
    },
    {
      "cell_type": "markdown",
      "source": [
        "#Descrição do dataset"
      ],
      "metadata": {
        "id": "HiWnV04VqyHP"
      }
    },
    {
      "cell_type": "code",
      "source": [
        "print(load_digits().DESCR)"
      ],
      "metadata": {
        "colab": {
          "base_uri": "https://localhost:8080/"
        },
        "id": "nJpBKbZ3lW0c",
        "outputId": "7df0e6ce-4ce6-4e7a-dcc7-5a9fa624e42d"
      },
      "execution_count": 2,
      "outputs": [
        {
          "output_type": "stream",
          "name": "stdout",
          "text": [
            ".. _digits_dataset:\n",
            "\n",
            "Optical recognition of handwritten digits dataset\n",
            "--------------------------------------------------\n",
            "\n",
            "**Data Set Characteristics:**\n",
            "\n",
            "    :Number of Instances: 1797\n",
            "    :Number of Attributes: 64\n",
            "    :Attribute Information: 8x8 image of integer pixels in the range 0..16.\n",
            "    :Missing Attribute Values: None\n",
            "    :Creator: E. Alpaydin (alpaydin '@' boun.edu.tr)\n",
            "    :Date: July; 1998\n",
            "\n",
            "This is a copy of the test set of the UCI ML hand-written digits datasets\n",
            "https://archive.ics.uci.edu/ml/datasets/Optical+Recognition+of+Handwritten+Digits\n",
            "\n",
            "The data set contains images of hand-written digits: 10 classes where\n",
            "each class refers to a digit.\n",
            "\n",
            "Preprocessing programs made available by NIST were used to extract\n",
            "normalized bitmaps of handwritten digits from a preprinted form. From a\n",
            "total of 43 people, 30 contributed to the training set and different 13\n",
            "to the test set. 32x32 bitmaps are divided into nonoverlapping blocks of\n",
            "4x4 and the number of on pixels are counted in each block. This generates\n",
            "an input matrix of 8x8 where each element is an integer in the range\n",
            "0..16. This reduces dimensionality and gives invariance to small\n",
            "distortions.\n",
            "\n",
            "For info on NIST preprocessing routines, see M. D. Garris, J. L. Blue, G.\n",
            "T. Candela, D. L. Dimmick, J. Geist, P. J. Grother, S. A. Janet, and C.\n",
            "L. Wilson, NIST Form-Based Handprint Recognition System, NISTIR 5469,\n",
            "1994.\n",
            "\n",
            ".. topic:: References\n",
            "\n",
            "  - C. Kaynak (1995) Methods of Combining Multiple Classifiers and Their\n",
            "    Applications to Handwritten Digit Recognition, MSc Thesis, Institute of\n",
            "    Graduate Studies in Science and Engineering, Bogazici University.\n",
            "  - E. Alpaydin, C. Kaynak (1998) Cascading Classifiers, Kybernetika.\n",
            "  - Ken Tang and Ponnuthurai N. Suganthan and Xi Yao and A. Kai Qin.\n",
            "    Linear dimensionalityreduction using relevance weighted LDA. School of\n",
            "    Electrical and Electronic Engineering Nanyang Technological University.\n",
            "    2005.\n",
            "  - Claudio Gentile. A New Approximate Maximal Margin Classification\n",
            "    Algorithm. NIPS. 2000.\n",
            "\n"
          ]
        }
      ]
    },
    {
      "cell_type": "markdown",
      "source": [
        "#Carregamento de dados"
      ],
      "metadata": {
        "id": "JmTjvlK7T5Gq"
      }
    },
    {
      "cell_type": "code",
      "source": [
        "digits = load_digits()\n",
        "X = digits.data\n",
        "y = digits.target\n",
        "\n",
        "# Carregamos o conjunto de dados digits:\n",
        "# X contém as imagens dos dígitos (cada imagem é uma matriz achatada de 64 pixels).\n",
        "# y contém as labels (dígitos de 0 a 9)."
      ],
      "metadata": {
        "id": "oWkG3MoVZd-k"
      },
      "execution_count": 3,
      "outputs": []
    },
    {
      "cell_type": "markdown",
      "source": [
        "#Simplificar para uma classsificação binária: digitos 0 como classes positivas vs não 0 como sendo negativo"
      ],
      "metadata": {
        "id": "DrnYpAl8D7yW"
      }
    },
    {
      "cell_type": "code",
      "source": [
        "y_binary = np.where(y == 0, 1, 0)\n",
        "\n",
        "# Binarizamos o conjunto de dados:\n",
        "# Foi considerado 0 como a classe positiva (1) e todas as outras como classe negativa (0)."
      ],
      "metadata": {
        "id": "oFhQNFs7D0Bz"
      },
      "execution_count": 4,
      "outputs": []
    },
    {
      "cell_type": "markdown",
      "source": [
        "#Função para normalizar os dados com Min-Max scaler"
      ],
      "metadata": {
        "id": "spZP3VpWDcdz"
      }
    },
    {
      "cell_type": "code",
      "source": [
        "scaler = MinMaxScaler()\n",
        "X_normalized = scaler.fit_transform(X)\n",
        "\n",
        "# Normalizamos os dados para que cada característica esteja entre 0 e 1.\n",
        "# Utilizando o MinMaxScaller, foram transformados os dados para que todas as características fiquem dentro de um intervalo entre 0 e 1"
      ],
      "metadata": {
        "id": "yjeiI26gEIR3"
      },
      "execution_count": 5,
      "outputs": []
    },
    {
      "cell_type": "markdown",
      "source": [
        "#Dividir os dados em conjuntos de treino e teste"
      ],
      "metadata": {
        "id": "bsNyJaUgERnQ"
      }
    },
    {
      "cell_type": "code",
      "source": [
        "X_train, X_test, y_train, y_test = train_test_split(X_normalized, y_binary, test_size=0.3, random_state=42)\n",
        "\n",
        "# Dividiu-se os dados em conjuntos de treinamento e teste:\n",
        "# 70% para treinamento (X_train, y_train).\n",
        "# 30% para teste (X_test, y_test)."
      ],
      "metadata": {
        "id": "_Z9EIGNaEPsZ"
      },
      "execution_count": 6,
      "outputs": []
    },
    {
      "cell_type": "markdown",
      "source": [
        "#Perceptron com sigmoide implementado"
      ],
      "metadata": {
        "id": "wmQs8XiaOivI"
      }
    },
    {
      "cell_type": "code",
      "source": [
        "class Perceptron:\n",
        "    def __init__(self, learning_rate=0.01, n_iter=1000):\n",
        "        self.learning_rate = learning_rate\n",
        "        self.n_iter = n_iter\n",
        "\n",
        "# Foi Definido a classe Perceptron com o método __init__ para inicializar o perceptron:\n",
        "#   learning_rate: Taxa de aprendizado para atualização dos pesos.\n",
        "#   n_iter: Número de iterações (épocas) para o treinamento.\n",
        "\n",
        "\n",
        "    def sigmoid(self, z):\n",
        "        return 1 / (1 + np.exp(-z))\n",
        "# Foi Definido a função de ativação sigmoide, que calcula 1 / (1 + e^(-z))\n",
        "\n",
        "    def fit(self, X, y):\n",
        "        self.weights = np.zeros(1 + X.shape[1])\n",
        "        self.errors_ = []\n",
        "# O método fit inicializa os pesos (com um adicional para o bias) e uma lista para armazenar erros por época.\n",
        "\n",
        "        for _ in range(self.n_iter):\n",
        "            errors = 0\n",
        "            for xi, target in zip(X, y):\n",
        "                input_data = self.input_data(xi)\n",
        "                output = self.sigmoid(input_data)\n",
        "                error = target - output\n",
        "                update = self.learning_rate * error\n",
        "                self.weights[1:] += update * xi\n",
        "                self.weights[0] += update\n",
        "                errors += int(update != 0.0)\n",
        "            self.errors_.append(errors)\n",
        "        return self\n",
        "\n",
        "# Primeira interação treina o perceptron por n_iter épocas:\n",
        "# Define a variável errors com valor inicial 0. Esta variável contará o número de erros de classificação durante cada iteração.\n",
        "# Inicia um segundo loop que percorre os pares de valores das listas X (características dos dados de entrada) e y (valores alvo/etiquetas).\n",
        "# xi representa uma única amostra de entrada e target representa o valor alvo correspondente a essa amostra.\n",
        "# self.input_data(xi) calcula a soma ponderada das entradas xi com os pesos atuais.\n",
        "# Calculo do  erro de previsão como a diferença entre o valor alvo target e a saída prevista output.\n",
        "# Calcula a quantidade de atualização para os pesos. Esta atualização é o produto da taxa de aprendizado (self.learning_rate) pelo erro calculado.\n",
        "# self.weights[1:] += update * xi -> Atualiza todos os pesos exceto o bias (peso inicial). Cada peso é ajustado pelo produto da atualização calculada e da entrada correspondente xi\n",
        "# self.weights[0] += update -> Atualiza o peso do bias (peso inicial). Este peso é ajustado diretamente pela atualização calculada.\n",
        "# errors += int(update != 0.0) -> Incrementa o contador de erros (errors) se houve uma atualização (ou seja, se update não é 0). Isso indica que a previsão estava errada e os pesos precisaram ser ajustados.\n",
        "\n",
        "\n",
        "    def input_data(self, X):\n",
        "        return np.dot(X, self.weights[1:]) + self.weights[0]\n",
        "\n",
        "\n",
        "# np.dot(X, self.weights[1:]) -> Calcula o produto escalar entre X e self.weights[1:].\n",
        "# X é o vetor de características da amostra de entrada.\n",
        "# self.weights[1:] -> são os pesos associados às características, excluindo o peso de bias (peso inicial).\n",
        "# + self.weights[0] -> Adiciona o peso de bias ao resultado do produto escalar.\n",
        "# self.weights[0] é o peso de bias, um termo constante que é adicionado ao resultado da multiplicação para ajustar a função de ativação.\n",
        "# A função input_data essencialmente prepara a entrada para a função de ativação, utilizada para a previsão e a atualização dos pesos no processo de aprendizado do modelo.\n",
        "\n",
        "    def predict(self, X):\n",
        "        input_data = self.input_data(X)\n",
        "        output = self.sigmoid(input_data)\n",
        "        return np.where(output >= 0.5, 1, 0)\n",
        "\n",
        "# Foi Calculado a previsão:\n",
        "# Aplicamos a função sigmoide à output utilizando input_data como parâmetro.\n",
        "# Retornamos 1 se output for maior ou igual a 0.5, caso contrário, retornamos 0.\n"
      ],
      "metadata": {
        "id": "bte0gabhapVV"
      },
      "execution_count": 7,
      "outputs": []
    },
    {
      "cell_type": "markdown",
      "source": [
        "#Criar e treinar o perceptron"
      ],
      "metadata": {
        "id": "OFxKq5PJGkhy"
      }
    },
    {
      "cell_type": "code",
      "source": [
        "perceptron_sigmoid = Perceptron(learning_rate=0.01, n_iter=1000)\n",
        "perceptron_sigmoid.fit(X_train, y_train)\n",
        "\n",
        "# Foi instanciado o perceptron com a função de ativação sigmoide e fora treinado com os dados de treinamento."
      ],
      "metadata": {
        "id": "xf88Zg9XZeLn",
        "colab": {
          "base_uri": "https://localhost:8080/"
        },
        "outputId": "5ba0f420-c02c-445b-a231-53ebcd5a8380"
      },
      "execution_count": 8,
      "outputs": [
        {
          "output_type": "execute_result",
          "data": {
            "text/plain": [
              "<__main__.Perceptron at 0x7db28aa3f9d0>"
            ]
          },
          "metadata": {},
          "execution_count": 8
        }
      ]
    },
    {
      "cell_type": "markdown",
      "source": [
        "#Fazer as previsoes no conjunto de teste"
      ],
      "metadata": {
        "id": "IjGQdPK9Gx3R"
      }
    },
    {
      "cell_type": "code",
      "source": [
        "y_predict = perceptron_sigmoid.predict(X_test)\n",
        "\n",
        "# Foram feitas as previsões nos dados de teste"
      ],
      "metadata": {
        "id": "g1W_3RkqZeQp"
      },
      "execution_count": 9,
      "outputs": []
    },
    {
      "cell_type": "markdown",
      "source": [
        "#Avaliar a acurácia do modelo"
      ],
      "metadata": {
        "id": "_969Dm0DG6OT"
      }
    },
    {
      "cell_type": "code",
      "source": [
        "accuracy = accuracy_score(y_test, y_predict)\n",
        "print(\"Accuracy:\", accuracy)"
      ],
      "metadata": {
        "colab": {
          "base_uri": "https://localhost:8080/"
        },
        "id": "nPTEdjEjG57g",
        "outputId": "8489e624-5d3d-4c08-f15b-eff60fba3d20"
      },
      "execution_count": 10,
      "outputs": [
        {
          "output_type": "stream",
          "name": "stdout",
          "text": [
            "Accuracy: 0.9981481481481481\n"
          ]
        }
      ]
    },
    {
      "cell_type": "markdown",
      "source": [
        "#Visualizar previsões"
      ],
      "metadata": {
        "id": "8WjBUySbHCH0"
      }
    },
    {
      "cell_type": "code",
      "source": [
        "hist, bins = np.histogram(y_test, bins=range(11))\n",
        "\n",
        "plt.bar(bins[:-1], hist, align='center', alpha=0.5)\n",
        "plt.xticks(range(10))\n",
        "plt.xlabel('Classe de Dígito')\n",
        "plt.ylabel('Número de Exemplos')\n",
        "plt.title('Histograma das Classes de Dígitos no Conjunto de Teste')\n",
        "plt.show()\n"
      ],
      "metadata": {
        "colab": {
          "base_uri": "https://localhost:8080/",
          "height": 473
        },
        "id": "KDYqJ24xZeTn",
        "outputId": "b102b0c9-afbc-477c-9b73-875e1afa14e4"
      },
      "execution_count": 16,
      "outputs": [
        {
          "output_type": "display_data",
          "data": {
            "text/plain": [
              "<Figure size 640x480 with 1 Axes>"
            ],
            "image/png": "[encoded data removed]"
          },
          "metadata": {}
        }
      ]
    },
    {
      "cell_type": "code",
      "source": [
        "fig, axes = plt.subplots(4, 5, figsize=(12, 10))\n",
        "\n",
        "for ax, image, true_label, pred_label in zip(axes.ravel(), X_test.reshape(-1, 8, 8), y_test, y_predict):\n",
        "    ax.imshow(image, cmap=plt.cm.gray_r, interpolation='nearest')\n",
        "    ax.set_title(f'Esperado: {true_label}\\nAtingido: {pred_label}')\n",
        "    ax.axis('off')\n",
        "\n",
        "plt.tight_layout()\n",
        "plt.show()"
      ],
      "metadata": {
        "colab": {
          "base_uri": "https://localhost:8080/",
          "height": 1000
        },
        "id": "4WS_g5q1r6-Q",
        "outputId": "e55647a3-731a-48bc-9c9e-b4b99e1c39bd"
      },
      "execution_count": 17,
      "outputs": [
        {
          "output_type": "display_data",
          "data": {
            "text/plain": [
              "<Figure size 1200x1000 with 20 Axes>"
            ],
            "image/png": "[encoded data removed]"
          },
          "metadata": {}
        }
      ]
    },
    {
      "cell_type": "code",
      "source": [],
      "metadata": {
        "id": "3Qgi7PYas8HI"
      },
      "execution_count": null,
      "outputs": []
    }
  ]
}